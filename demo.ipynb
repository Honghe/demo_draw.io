{
 "cells": [
  {
   "cell_type": "code",
   "execution_count": 3,
   "metadata": {},
   "outputs": [
    {
     "data": {
      "image/svg+xml": [
       "<svg height=\"211px\" version=\"1.1\" width=\"261px\" xmlns=\"http://www.w3.org/2000/svg\" xmlns:xlink=\"http://www.w3.org/1999/xlink\"><defs/><g transform=\"translate(0.5,0.5)\"><rect fill=\"#ffffff\" height=\"60\" pointer-events=\"none\" stroke=\"#000000\" width=\"120\" x=\"80\" y=\"0\"/><ellipse cx=\"40\" cy=\"170\" fill=\"#ffffff\" pointer-events=\"none\" rx=\"40\" ry=\"40\" stroke=\"#000000\"/><rect fill=\"#ffffff\" height=\"60\" pointer-events=\"none\" stroke=\"#000000\" width=\"120\" x=\"140\" y=\"100\"/><path d=\"M 152 100 L 152 160 M 248 100 L 248 160\" fill=\"none\" pointer-events=\"none\" stroke=\"#000000\" stroke-miterlimit=\"10\"/></g></svg>"
      ],
      "text/plain": [
       "<IPython.core.display.SVG object>"
      ]
     },
     "execution_count": 3,
     "metadata": {},
     "output_type": "execute_result"
    }
   ],
   "source": [
    "from IPython.display import SVG\n",
    "SVG(filename='./20180509.svg')"
   ]
  }
 ],
 "metadata": {
  "kernelspec": {
   "display_name": "Python 3",
   "language": "python",
   "name": "python3"
  },
  "language_info": {
   "codemirror_mode": {
    "name": "ipython",
    "version": 3
   },
   "file_extension": ".py",
   "mimetype": "text/x-python",
   "name": "python",
   "nbconvert_exporter": "python",
   "pygments_lexer": "ipython3",
   "version": "3.6.5"
  }
 },
 "nbformat": 4,
 "nbformat_minor": 2
}
