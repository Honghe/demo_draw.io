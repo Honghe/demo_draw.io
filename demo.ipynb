from Ipython.display import SVG
SVG(filename='./20180509.svg')
